{
  "nbformat": 4,
  "nbformat_minor": 0,
  "metadata": {
    "colab": {
      "provenance": []
    },
    "kernelspec": {
      "name": "python3",
      "display_name": "Python 3"
    },
    "language_info": {
      "name": "python"
    }
  },
  "cells": [
    {
      "cell_type": "code",
      "execution_count": 20,
      "metadata": {
        "colab": {
          "base_uri": "https://localhost:8080/",
          "height": 1000
        },
        "id": "VRYM4Ylq3kFN",
        "outputId": "c0f63eff-49b6-471f-c306-974351020cdf"
      },
      "outputs": [
        {
          "output_type": "display_data",
          "data": {
            "text/plain": [
              "   PassengerId  Survived  Pclass  \\\n",
              "0            1         0       3   \n",
              "1            2         1       1   \n",
              "2            3         1       3   \n",
              "3            4         1       1   \n",
              "4            5         0       3   \n",
              "\n",
              "                                                Name     Sex   Age  SibSp  \\\n",
              "0                            Braund, Mr. Owen Harris    male  22.0      1   \n",
              "1  Cumings, Mrs. John Bradley (Florence Briggs Th...  female  38.0      1   \n",
              "2                             Heikkinen, Miss. Laina  female  26.0      0   \n",
              "3       Futrelle, Mrs. Jacques Heath (Lily May Peel)  female  35.0      1   \n",
              "4                           Allen, Mr. William Henry    male  35.0      0   \n",
              "\n",
              "   Parch            Ticket     Fare Cabin Embarked  \n",
              "0      0         A/5 21171   7.2500   NaN        S  \n",
              "1      0          PC 17599  71.2833   C85        C  \n",
              "2      0  STON/O2. 3101282   7.9250   NaN        S  \n",
              "3      0            113803  53.1000  C123        S  \n",
              "4      0            373450   8.0500   NaN        S  "
            ],
            "text/html": [
              "\n",
              "  <div id=\"df-75f017cc-b57f-4d6d-a36d-9a578fc2f9f2\" class=\"colab-df-container\">\n",
              "    <div>\n",
              "<style scoped>\n",
              "    .dataframe tbody tr th:only-of-type {\n",
              "        vertical-align: middle;\n",
              "    }\n",
              "\n",
              "    .dataframe tbody tr th {\n",
              "        vertical-align: top;\n",
              "    }\n",
              "\n",
              "    .dataframe thead th {\n",
              "        text-align: right;\n",
              "    }\n",
              "</style>\n",
              "<table border=\"1\" class=\"dataframe\">\n",
              "  <thead>\n",
              "    <tr style=\"text-align: right;\">\n",
              "      <th></th>\n",
              "      <th>PassengerId</th>\n",
              "      <th>Survived</th>\n",
              "      <th>Pclass</th>\n",
              "      <th>Name</th>\n",
              "      <th>Sex</th>\n",
              "      <th>Age</th>\n",
              "      <th>SibSp</th>\n",
              "      <th>Parch</th>\n",
              "      <th>Ticket</th>\n",
              "      <th>Fare</th>\n",
              "      <th>Cabin</th>\n",
              "      <th>Embarked</th>\n",
              "    </tr>\n",
              "  </thead>\n",
              "  <tbody>\n",
              "    <tr>\n",
              "      <th>0</th>\n",
              "      <td>1</td>\n",
              "      <td>0</td>\n",
              "      <td>3</td>\n",
              "      <td>Braund, Mr. Owen Harris</td>\n",
              "      <td>male</td>\n",
              "      <td>22.0</td>\n",
              "      <td>1</td>\n",
              "      <td>0</td>\n",
              "      <td>A/5 21171</td>\n",
              "      <td>7.2500</td>\n",
              "      <td>NaN</td>\n",
              "      <td>S</td>\n",
              "    </tr>\n",
              "    <tr>\n",
              "      <th>1</th>\n",
              "      <td>2</td>\n",
              "      <td>1</td>\n",
              "      <td>1</td>\n",
              "      <td>Cumings, Mrs. John Bradley (Florence Briggs Th...</td>\n",
              "      <td>female</td>\n",
              "      <td>38.0</td>\n",
              "      <td>1</td>\n",
              "      <td>0</td>\n",
              "      <td>PC 17599</td>\n",
              "      <td>71.2833</td>\n",
              "      <td>C85</td>\n",
              "      <td>C</td>\n",
              "    </tr>\n",
              "    <tr>\n",
              "      <th>2</th>\n",
              "      <td>3</td>\n",
              "      <td>1</td>\n",
              "      <td>3</td>\n",
              "      <td>Heikkinen, Miss. Laina</td>\n",
              "      <td>female</td>\n",
              "      <td>26.0</td>\n",
              "      <td>0</td>\n",
              "      <td>0</td>\n",
              "      <td>STON/O2. 3101282</td>\n",
              "      <td>7.9250</td>\n",
              "      <td>NaN</td>\n",
              "      <td>S</td>\n",
              "    </tr>\n",
              "    <tr>\n",
              "      <th>3</th>\n",
              "      <td>4</td>\n",
              "      <td>1</td>\n",
              "      <td>1</td>\n",
              "      <td>Futrelle, Mrs. Jacques Heath (Lily May Peel)</td>\n",
              "      <td>female</td>\n",
              "      <td>35.0</td>\n",
              "      <td>1</td>\n",
              "      <td>0</td>\n",
              "      <td>113803</td>\n",
              "      <td>53.1000</td>\n",
              "      <td>C123</td>\n",
              "      <td>S</td>\n",
              "    </tr>\n",
              "    <tr>\n",
              "      <th>4</th>\n",
              "      <td>5</td>\n",
              "      <td>0</td>\n",
              "      <td>3</td>\n",
              "      <td>Allen, Mr. William Henry</td>\n",
              "      <td>male</td>\n",
              "      <td>35.0</td>\n",
              "      <td>0</td>\n",
              "      <td>0</td>\n",
              "      <td>373450</td>\n",
              "      <td>8.0500</td>\n",
              "      <td>NaN</td>\n",
              "      <td>S</td>\n",
              "    </tr>\n",
              "  </tbody>\n",
              "</table>\n",
              "</div>\n",
              "    <div class=\"colab-df-buttons\">\n",
              "\n",
              "  <div class=\"colab-df-container\">\n",
              "    <button class=\"colab-df-convert\" onclick=\"convertToInteractive('df-75f017cc-b57f-4d6d-a36d-9a578fc2f9f2')\"\n",
              "            title=\"Convert this dataframe to an interactive table.\"\n",
              "            style=\"display:none;\">\n",
              "\n",
              "  <svg xmlns=\"http://www.w3.org/2000/svg\" height=\"24px\" viewBox=\"0 -960 960 960\">\n",
              "    <path d=\"M120-120v-720h720v720H120Zm60-500h600v-160H180v160Zm220 220h160v-160H400v160Zm0 220h160v-160H400v160ZM180-400h160v-160H180v160Zm440 0h160v-160H620v160ZM180-180h160v-160H180v160Zm440 0h160v-160H620v160Z\"/>\n",
              "  </svg>\n",
              "    </button>\n",
              "\n",
              "  <style>\n",
              "    .colab-df-container {\n",
              "      display:flex;\n",
              "      gap: 12px;\n",
              "    }\n",
              "\n",
              "    .colab-df-convert {\n",
              "      background-color: #E8F0FE;\n",
              "      border: none;\n",
              "      border-radius: 50%;\n",
              "      cursor: pointer;\n",
              "      display: none;\n",
              "      fill: #1967D2;\n",
              "      height: 32px;\n",
              "      padding: 0 0 0 0;\n",
              "      width: 32px;\n",
              "    }\n",
              "\n",
              "    .colab-df-convert:hover {\n",
              "      background-color: #E2EBFA;\n",
              "      box-shadow: 0px 1px 2px rgba(60, 64, 67, 0.3), 0px 1px 3px 1px rgba(60, 64, 67, 0.15);\n",
              "      fill: #174EA6;\n",
              "    }\n",
              "\n",
              "    .colab-df-buttons div {\n",
              "      margin-bottom: 4px;\n",
              "    }\n",
              "\n",
              "    [theme=dark] .colab-df-convert {\n",
              "      background-color: #3B4455;\n",
              "      fill: #D2E3FC;\n",
              "    }\n",
              "\n",
              "    [theme=dark] .colab-df-convert:hover {\n",
              "      background-color: #434B5C;\n",
              "      box-shadow: 0px 1px 3px 1px rgba(0, 0, 0, 0.15);\n",
              "      filter: drop-shadow(0px 1px 2px rgba(0, 0, 0, 0.3));\n",
              "      fill: #FFFFFF;\n",
              "    }\n",
              "  </style>\n",
              "\n",
              "    <script>\n",
              "      const buttonEl =\n",
              "        document.querySelector('#df-75f017cc-b57f-4d6d-a36d-9a578fc2f9f2 button.colab-df-convert');\n",
              "      buttonEl.style.display =\n",
              "        google.colab.kernel.accessAllowed ? 'block' : 'none';\n",
              "\n",
              "      async function convertToInteractive(key) {\n",
              "        const element = document.querySelector('#df-75f017cc-b57f-4d6d-a36d-9a578fc2f9f2');\n",
              "        const dataTable =\n",
              "          await google.colab.kernel.invokeFunction('convertToInteractive',\n",
              "                                                    [key], {});\n",
              "        if (!dataTable) return;\n",
              "\n",
              "        const docLinkHtml = 'Like what you see? Visit the ' +\n",
              "          '<a target=\"_blank\" href=https://colab.research.google.com/notebooks/data_table.ipynb>data table notebook</a>'\n",
              "          + ' to learn more about interactive tables.';\n",
              "        element.innerHTML = '';\n",
              "        dataTable['output_type'] = 'display_data';\n",
              "        await google.colab.output.renderOutput(dataTable, element);\n",
              "        const docLink = document.createElement('div');\n",
              "        docLink.innerHTML = docLinkHtml;\n",
              "        element.appendChild(docLink);\n",
              "      }\n",
              "    </script>\n",
              "  </div>\n",
              "\n",
              "\n",
              "<div id=\"df-59fecc72-33ff-4997-bff5-31ec2a61287d\">\n",
              "  <button class=\"colab-df-quickchart\" onclick=\"quickchart('df-59fecc72-33ff-4997-bff5-31ec2a61287d')\"\n",
              "            title=\"Suggest charts\"\n",
              "            style=\"display:none;\">\n",
              "\n",
              "<svg xmlns=\"http://www.w3.org/2000/svg\" height=\"24px\"viewBox=\"0 0 24 24\"\n",
              "     width=\"24px\">\n",
              "    <g>\n",
              "        <path d=\"M19 3H5c-1.1 0-2 .9-2 2v14c0 1.1.9 2 2 2h14c1.1 0 2-.9 2-2V5c0-1.1-.9-2-2-2zM9 17H7v-7h2v7zm4 0h-2V7h2v10zm4 0h-2v-4h2v4z\"/>\n",
              "    </g>\n",
              "</svg>\n",
              "  </button>\n",
              "\n",
              "<style>\n",
              "  .colab-df-quickchart {\n",
              "      --bg-color: #E8F0FE;\n",
              "      --fill-color: #1967D2;\n",
              "      --hover-bg-color: #E2EBFA;\n",
              "      --hover-fill-color: #174EA6;\n",
              "      --disabled-fill-color: #AAA;\n",
              "      --disabled-bg-color: #DDD;\n",
              "  }\n",
              "\n",
              "  [theme=dark] .colab-df-quickchart {\n",
              "      --bg-color: #3B4455;\n",
              "      --fill-color: #D2E3FC;\n",
              "      --hover-bg-color: #434B5C;\n",
              "      --hover-fill-color: #FFFFFF;\n",
              "      --disabled-bg-color: #3B4455;\n",
              "      --disabled-fill-color: #666;\n",
              "  }\n",
              "\n",
              "  .colab-df-quickchart {\n",
              "    background-color: var(--bg-color);\n",
              "    border: none;\n",
              "    border-radius: 50%;\n",
              "    cursor: pointer;\n",
              "    display: none;\n",
              "    fill: var(--fill-color);\n",
              "    height: 32px;\n",
              "    padding: 0;\n",
              "    width: 32px;\n",
              "  }\n",
              "\n",
              "  .colab-df-quickchart:hover {\n",
              "    background-color: var(--hover-bg-color);\n",
              "    box-shadow: 0 1px 2px rgba(60, 64, 67, 0.3), 0 1px 3px 1px rgba(60, 64, 67, 0.15);\n",
              "    fill: var(--button-hover-fill-color);\n",
              "  }\n",
              "\n",
              "  .colab-df-quickchart-complete:disabled,\n",
              "  .colab-df-quickchart-complete:disabled:hover {\n",
              "    background-color: var(--disabled-bg-color);\n",
              "    fill: var(--disabled-fill-color);\n",
              "    box-shadow: none;\n",
              "  }\n",
              "\n",
              "  .colab-df-spinner {\n",
              "    border: 2px solid var(--fill-color);\n",
              "    border-color: transparent;\n",
              "    border-bottom-color: var(--fill-color);\n",
              "    animation:\n",
              "      spin 1s steps(1) infinite;\n",
              "  }\n",
              "\n",
              "  @keyframes spin {\n",
              "    0% {\n",
              "      border-color: transparent;\n",
              "      border-bottom-color: var(--fill-color);\n",
              "      border-left-color: var(--fill-color);\n",
              "    }\n",
              "    20% {\n",
              "      border-color: transparent;\n",
              "      border-left-color: var(--fill-color);\n",
              "      border-top-color: var(--fill-color);\n",
              "    }\n",
              "    30% {\n",
              "      border-color: transparent;\n",
              "      border-left-color: var(--fill-color);\n",
              "      border-top-color: var(--fill-color);\n",
              "      border-right-color: var(--fill-color);\n",
              "    }\n",
              "    40% {\n",
              "      border-color: transparent;\n",
              "      border-right-color: var(--fill-color);\n",
              "      border-top-color: var(--fill-color);\n",
              "    }\n",
              "    60% {\n",
              "      border-color: transparent;\n",
              "      border-right-color: var(--fill-color);\n",
              "    }\n",
              "    80% {\n",
              "      border-color: transparent;\n",
              "      border-right-color: var(--fill-color);\n",
              "      border-bottom-color: var(--fill-color);\n",
              "    }\n",
              "    90% {\n",
              "      border-color: transparent;\n",
              "      border-bottom-color: var(--fill-color);\n",
              "    }\n",
              "  }\n",
              "</style>\n",
              "\n",
              "  <script>\n",
              "    async function quickchart(key) {\n",
              "      const quickchartButtonEl =\n",
              "        document.querySelector('#' + key + ' button');\n",
              "      quickchartButtonEl.disabled = true;  // To prevent multiple clicks.\n",
              "      quickchartButtonEl.classList.add('colab-df-spinner');\n",
              "      try {\n",
              "        const charts = await google.colab.kernel.invokeFunction(\n",
              "            'suggestCharts', [key], {});\n",
              "      } catch (error) {\n",
              "        console.error('Error during call to suggestCharts:', error);\n",
              "      }\n",
              "      quickchartButtonEl.classList.remove('colab-df-spinner');\n",
              "      quickchartButtonEl.classList.add('colab-df-quickchart-complete');\n",
              "    }\n",
              "    (() => {\n",
              "      let quickchartButtonEl =\n",
              "        document.querySelector('#df-59fecc72-33ff-4997-bff5-31ec2a61287d button');\n",
              "      quickchartButtonEl.style.display =\n",
              "        google.colab.kernel.accessAllowed ? 'block' : 'none';\n",
              "    })();\n",
              "  </script>\n",
              "</div>\n",
              "\n",
              "    </div>\n",
              "  </div>\n"
            ],
            "application/vnd.google.colaboratory.intrinsic+json": {
              "type": "dataframe",
              "summary": "{\n  \"name\": \"save_model(final_model, 'optimized_classification_model')\",\n  \"rows\": 5,\n  \"fields\": [\n    {\n      \"column\": \"PassengerId\",\n      \"properties\": {\n        \"dtype\": \"number\",\n        \"std\": 1,\n        \"min\": 1,\n        \"max\": 5,\n        \"num_unique_values\": 5,\n        \"samples\": [\n          2,\n          5,\n          3\n        ],\n        \"semantic_type\": \"\",\n        \"description\": \"\"\n      }\n    },\n    {\n      \"column\": \"Survived\",\n      \"properties\": {\n        \"dtype\": \"number\",\n        \"std\": 0,\n        \"min\": 0,\n        \"max\": 1,\n        \"num_unique_values\": 2,\n        \"samples\": [\n          1,\n          0\n        ],\n        \"semantic_type\": \"\",\n        \"description\": \"\"\n      }\n    },\n    {\n      \"column\": \"Pclass\",\n      \"properties\": {\n        \"dtype\": \"number\",\n        \"std\": 1,\n        \"min\": 1,\n        \"max\": 3,\n        \"num_unique_values\": 2,\n        \"samples\": [\n          1,\n          3\n        ],\n        \"semantic_type\": \"\",\n        \"description\": \"\"\n      }\n    },\n    {\n      \"column\": \"Name\",\n      \"properties\": {\n        \"dtype\": \"string\",\n        \"num_unique_values\": 5,\n        \"samples\": [\n          \"Cumings, Mrs. John Bradley (Florence Briggs Thayer)\",\n          \"Allen, Mr. William Henry\"\n        ],\n        \"semantic_type\": \"\",\n        \"description\": \"\"\n      }\n    },\n    {\n      \"column\": \"Sex\",\n      \"properties\": {\n        \"dtype\": \"category\",\n        \"num_unique_values\": 2,\n        \"samples\": [\n          \"female\",\n          \"male\"\n        ],\n        \"semantic_type\": \"\",\n        \"description\": \"\"\n      }\n    },\n    {\n      \"column\": \"Age\",\n      \"properties\": {\n        \"dtype\": \"number\",\n        \"std\": 6.833739825307955,\n        \"min\": 22.0,\n        \"max\": 38.0,\n        \"num_unique_values\": 4,\n        \"samples\": [\n          38.0,\n          35.0\n        ],\n        \"semantic_type\": \"\",\n        \"description\": \"\"\n      }\n    },\n    {\n      \"column\": \"SibSp\",\n      \"properties\": {\n        \"dtype\": \"number\",\n        \"std\": 0,\n        \"min\": 0,\n        \"max\": 1,\n        \"num_unique_values\": 2,\n        \"samples\": [\n          0,\n          1\n        ],\n        \"semantic_type\": \"\",\n        \"description\": \"\"\n      }\n    },\n    {\n      \"column\": \"Parch\",\n      \"properties\": {\n        \"dtype\": \"number\",\n        \"std\": 0,\n        \"min\": 0,\n        \"max\": 0,\n        \"num_unique_values\": 1,\n        \"samples\": [\n          0\n        ],\n        \"semantic_type\": \"\",\n        \"description\": \"\"\n      }\n    },\n    {\n      \"column\": \"Ticket\",\n      \"properties\": {\n        \"dtype\": \"string\",\n        \"num_unique_values\": 5,\n        \"samples\": [\n          \"PC 17599\"\n        ],\n        \"semantic_type\": \"\",\n        \"description\": \"\"\n      }\n    },\n    {\n      \"column\": \"Fare\",\n      \"properties\": {\n        \"dtype\": \"number\",\n        \"std\": 30.5100288352535,\n        \"min\": 7.25,\n        \"max\": 71.2833,\n        \"num_unique_values\": 5,\n        \"samples\": [\n          71.2833\n        ],\n        \"semantic_type\": \"\",\n        \"description\": \"\"\n      }\n    },\n    {\n      \"column\": \"Cabin\",\n      \"properties\": {\n        \"dtype\": \"category\",\n        \"num_unique_values\": 2,\n        \"samples\": [\n          \"C123\"\n        ],\n        \"semantic_type\": \"\",\n        \"description\": \"\"\n      }\n    },\n    {\n      \"column\": \"Embarked\",\n      \"properties\": {\n        \"dtype\": \"category\",\n        \"num_unique_values\": 2,\n        \"samples\": [\n          \"C\"\n        ],\n        \"semantic_type\": \"\",\n        \"description\": \"\"\n      }\n    }\n  ]\n}"
            }
          },
          "metadata": {}
        },
        {
          "output_type": "stream",
          "name": "stdout",
          "text": [
            "                    Description             Value\n",
            "0                    Session id               123\n",
            "1                        Target          Survived\n",
            "2                   Target type            Binary\n",
            "3           Original data shape         (891, 11)\n",
            "4        Transformed data shape         (891, 13)\n",
            "5   Transformed train set shape         (623, 13)\n",
            "6    Transformed test set shape         (268, 13)\n",
            "7              Numeric features                 8\n",
            "8          Categorical features                 2\n",
            "9      Rows with missing values             20.1%\n",
            "10                   Preprocess              True\n",
            "11              Imputation type            simple\n",
            "12           Numeric imputation              mean\n",
            "13       Categorical imputation              mode\n",
            "14     Maximum one-hot encoding                25\n",
            "15              Encoding method              None\n",
            "16               Fold Generator   StratifiedKFold\n",
            "17                  Fold Number                10\n",
            "18                     CPU Jobs                -1\n",
            "19                      Use GPU             False\n",
            "20               Log Experiment             False\n",
            "21              Experiment Name  clf-default-name\n",
            "22                          USI              7dea\n"
          ]
        },
        {
          "output_type": "stream",
          "name": "stderr",
          "text": [
            "[I 2024-12-17 19:24:54,078] A new study created in memory with name: no-name-a6891cf5-3a0d-41e4-b9f5-9058a97db66f\n"
          ]
        },
        {
          "output_type": "stream",
          "name": "stdout",
          "text": [
            "      Accuracy     AUC  Recall   Prec.      F1   Kappa     MCC\n",
            "Fold                                                          \n",
            "0       0.8571  0.8697  0.7083  0.8947  0.7907  0.6845  0.6952\n",
            "1       0.7937  0.8291  0.7083  0.7391  0.7234  0.5590  0.5593\n",
            "2       0.7778  0.8194  0.5833  0.7778  0.6667  0.5051  0.5168\n",
            "3       0.8226  0.8294  0.6957  0.8000  0.7442  0.6094  0.6129\n",
            "4       0.7258  0.7039  0.5000  0.7059  0.5854  0.3893  0.4023\n",
            "5       0.7742  0.8169  0.5833  0.7778  0.6667  0.5011  0.5130\n",
            "6       0.8710  0.8520  0.7917  0.8636  0.8261  0.7238  0.7256\n",
            "7       0.6774  0.7423  0.6667  0.5714  0.6154  0.3404  0.3434\n",
            "8       0.7903  0.8202  0.6250  0.7895  0.6977  0.5405  0.5491\n",
            "9       0.8065  0.8728  0.7917  0.7308  0.7600  0.5983  0.5996\n",
            "Mean    0.7896  0.8156  0.6654  0.7651  0.7076  0.5451  0.5517\n",
            "Std     0.0544  0.0508  0.0889  0.0846  0.0722  0.1132  0.1120\n"
          ]
        },
        {
          "output_type": "stream",
          "name": "stderr",
          "text": [
            "[I 2024-12-17 19:25:01,504] Trial 0 finished with value: 0.8571 and parameters: {'model': 'xgboost', 'learning_rate': 0.11173123427744512, 'n_estimators': 115}. Best is trial 0 with value: 0.8571.\n",
            "[I 2024-12-17 19:25:10,539] Trial 1 finished with value: 0.8571 and parameters: {'model': 'lightgbm', 'num_leaves': 113, 'n_estimators': 133}. Best is trial 0 with value: 0.8571.\n"
          ]
        },
        {
          "output_type": "stream",
          "name": "stdout",
          "text": [
            "      Accuracy     AUC  Recall   Prec.      F1   Kappa     MCC\n",
            "Fold                                                          \n",
            "0       0.8571  0.8793  0.7083  0.8947  0.7907  0.6845  0.6952\n",
            "1       0.8095  0.8323  0.7500  0.7500  0.7500  0.5962  0.5962\n",
            "2       0.7778  0.8462  0.5833  0.7778  0.6667  0.5051  0.5168\n",
            "3       0.8226  0.8540  0.6522  0.8333  0.7317  0.6021  0.6122\n",
            "4       0.6935  0.7072  0.4583  0.6471  0.5366  0.3175  0.3280\n",
            "5       0.7742  0.8092  0.5833  0.7778  0.6667  0.5011  0.5130\n",
            "6       0.8710  0.8695  0.8333  0.8333  0.8333  0.7281  0.7281\n",
            "7       0.6613  0.7511  0.6667  0.5517  0.6038  0.3126  0.3168\n",
            "8       0.7903  0.8333  0.7083  0.7391  0.7234  0.5547  0.5550\n",
            "9       0.8226  0.9320  0.7500  0.7826  0.7660  0.6232  0.6236\n",
            "Mean    0.7880  0.8314  0.6694  0.7587  0.7069  0.5425  0.5485\n",
            "Std     0.0631  0.0608  0.1013  0.0931  0.0849  0.1320  0.1305\n"
          ]
        },
        {
          "output_type": "stream",
          "name": "stderr",
          "text": [
            "[I 2024-12-17 19:25:25,850] Trial 2 finished with value: 0.8254 and parameters: {'model': 'lightgbm', 'num_leaves': 185, 'n_estimators': 241}. Best is trial 0 with value: 0.8571.\n"
          ]
        },
        {
          "output_type": "stream",
          "name": "stdout",
          "text": [
            "      Accuracy     AUC  Recall   Prec.      F1   Kappa     MCC\n",
            "Fold                                                          \n",
            "0       0.8254  0.8632  0.7083  0.8095  0.7556  0.6207  0.6240\n",
            "1       0.7937  0.8365  0.7500  0.7200  0.7347  0.5660  0.5663\n",
            "2       0.7778  0.8483  0.5833  0.7778  0.6667  0.5051  0.5168\n",
            "3       0.8226  0.8384  0.6522  0.8333  0.7317  0.6021  0.6122\n",
            "4       0.7097  0.6864  0.5000  0.6667  0.5714  0.3586  0.3671\n",
            "5       0.7581  0.7917  0.5833  0.7368  0.6512  0.4698  0.4773\n",
            "6       0.8387  0.8618  0.7917  0.7917  0.7917  0.6601  0.6601\n",
            "7       0.6774  0.7423  0.6667  0.5714  0.6154  0.3404  0.3434\n",
            "8       0.7903  0.8158  0.7083  0.7391  0.7234  0.5547  0.5550\n",
            "9       0.8387  0.9156  0.7917  0.7917  0.7917  0.6601  0.6601\n",
            "Mean    0.7832  0.8200  0.6736  0.7438  0.7033  0.5338  0.5382\n",
            "Std     0.0519  0.0623  0.0911  0.0737  0.0705  0.1089  0.1072\n"
          ]
        },
        {
          "output_type": "stream",
          "name": "stderr",
          "text": [
            "[I 2024-12-17 19:25:39,964] Trial 3 finished with value: 0.8413 and parameters: {'model': 'lightgbm', 'num_leaves': 254, 'n_estimators': 253}. Best is trial 0 with value: 0.8571.\n"
          ]
        },
        {
          "output_type": "stream",
          "name": "stdout",
          "text": [
            "      Accuracy     AUC  Recall   Prec.      F1   Kappa     MCC\n",
            "Fold                                                          \n",
            "0       0.8413  0.8590  0.7083  0.8500  0.7727  0.6523  0.6587\n",
            "1       0.7937  0.8344  0.7500  0.7200  0.7347  0.5660  0.5663\n",
            "2       0.7778  0.8483  0.5833  0.7778  0.6667  0.5051  0.5168\n",
            "3       0.8226  0.8395  0.6522  0.8333  0.7317  0.6021  0.6122\n",
            "4       0.7097  0.6842  0.5000  0.6667  0.5714  0.3586  0.3671\n",
            "5       0.7419  0.7917  0.5833  0.7000  0.6364  0.4389  0.4433\n",
            "6       0.8387  0.8607  0.7917  0.7917  0.7917  0.6601  0.6601\n",
            "7       0.6774  0.7434  0.6667  0.5714  0.6154  0.3404  0.3434\n",
            "8       0.7903  0.8180  0.7083  0.7391  0.7234  0.5547  0.5550\n",
            "9       0.8387  0.9156  0.7917  0.7917  0.7917  0.6601  0.6601\n",
            "Mean    0.7832  0.8195  0.6736  0.7442  0.7036  0.5338  0.5383\n",
            "Std     0.0544  0.0623  0.0911  0.0795  0.0732  0.1140  0.1129\n"
          ]
        },
        {
          "output_type": "stream",
          "name": "stderr",
          "text": [
            "[I 2024-12-17 19:25:42,178] Trial 4 finished with value: 0.7937 and parameters: {'model': 'xgboost', 'learning_rate': 0.22299078250627052, 'n_estimators': 184}. Best is trial 0 with value: 0.8571.\n"
          ]
        },
        {
          "output_type": "stream",
          "name": "stdout",
          "text": [
            "      Accuracy     AUC  Recall   Prec.      F1   Kappa     MCC\n",
            "Fold                                                          \n",
            "0       0.7937  0.8622  0.7083  0.7391  0.7234  0.5590  0.5593\n",
            "1       0.7778  0.8355  0.7083  0.7083  0.7083  0.5288  0.5288\n",
            "2       0.7937  0.8301  0.6667  0.7619  0.7111  0.5517  0.5547\n",
            "3       0.7742  0.8082  0.5217  0.8000  0.6316  0.4790  0.5017\n",
            "4       0.7258  0.7050  0.5417  0.6842  0.6047  0.3991  0.4055\n",
            "5       0.7742  0.7895  0.5833  0.7778  0.6667  0.5011  0.5130\n",
            "6       0.8548  0.8432  0.7917  0.8261  0.8085  0.6917  0.6921\n",
            "7       0.6452  0.7588  0.6667  0.5333  0.5926  0.2851  0.2907\n",
            "8       0.7903  0.8289  0.6667  0.7619  0.7111  0.5477  0.5507\n",
            "9       0.7742  0.8882  0.7500  0.6923  0.7200  0.5313  0.5325\n",
            "Mean    0.7704  0.8150  0.6605  0.7285  0.6878  0.5075  0.5129\n",
            "Std     0.0514  0.0502  0.0832  0.0782  0.0616  0.1016  0.0996\n"
          ]
        },
        {
          "output_type": "stream",
          "name": "stderr",
          "text": [
            "[I 2024-12-17 19:25:44,034] Trial 5 finished with value: 0.8254 and parameters: {'model': 'xgboost', 'learning_rate': 0.2510540218601382, 'n_estimators': 109}. Best is trial 0 with value: 0.8571.\n"
          ]
        },
        {
          "output_type": "stream",
          "name": "stdout",
          "text": [
            "      Accuracy     AUC  Recall   Prec.      F1   Kappa     MCC\n",
            "Fold                                                          \n",
            "0       0.8254  0.8686  0.7083  0.8095  0.7556  0.6207  0.6240\n",
            "1       0.7937  0.8269  0.7083  0.7391  0.7234  0.5590  0.5593\n",
            "2       0.8095  0.8376  0.6250  0.8333  0.7143  0.5758  0.5892\n",
            "3       0.7903  0.8105  0.5652  0.8125  0.6667  0.5208  0.5391\n",
            "4       0.7419  0.6820  0.5833  0.7000  0.6364  0.4389  0.4433\n",
            "5       0.7903  0.8136  0.6250  0.7895  0.6977  0.5405  0.5491\n",
            "6       0.8548  0.8487  0.7917  0.8261  0.8085  0.6917  0.6921\n",
            "7       0.6613  0.7500  0.6667  0.5517  0.6038  0.3126  0.3168\n",
            "8       0.7581  0.8257  0.6250  0.7143  0.6667  0.4781  0.4807\n",
            "9       0.8065  0.8728  0.7917  0.7308  0.7600  0.5983  0.5996\n",
            "Mean    0.7832  0.8136  0.6690  0.7507  0.7033  0.5336  0.5393\n",
            "Std     0.0506  0.0548  0.0756  0.0808  0.0589  0.1001  0.0996\n"
          ]
        },
        {
          "output_type": "stream",
          "name": "stderr",
          "text": []
        },
        {
          "output_type": "stream",
          "name": "stdout",
          "text": [
            "      Accuracy     AUC  Recall   Prec.      F1   Kappa     MCC\n",
            "Fold                                                          \n",
            "0       0.8571  0.8835  0.7500  0.8571  0.8000  0.6897  0.6934\n",
            "1       0.8254  0.8467  0.7500  0.7826  0.7660  0.6268  0.6272\n",
            "2       0.7778  0.8515  0.6250  0.7500  0.6818  0.5132  0.5183\n",
            "3       0.8387  0.8740  0.6957  0.8421  0.7619  0.6416  0.6483\n",
            "4       0.7903  0.7599  0.5833  0.8235  0.6829  0.5330  0.5507\n",
            "5       0.8226  0.8443  0.7083  0.8095  0.7556  0.6173  0.6207\n",
            "6       0.8710  0.8695  0.8333  0.8333  0.8333  0.7281  0.7281\n",
            "7       0.7903  0.8300  0.7500  0.7200  0.7347  0.5615  0.5618\n",
            "8       0.7742  0.8311  0.6250  0.7500  0.6818  0.5090  0.5141\n",
            "9       0.8387  0.8958  0.7917  0.7917  0.7917  0.6601  0.6601\n",
            "Mean    0.8186  0.8486  0.7112  0.7960  0.7490  0.6080  0.6123\n",
            "Std     0.0322  0.0362  0.0757  0.0429  0.0506  0.0721  0.0698\n"
          ]
        },
        {
          "output_type": "stream",
          "name": "stderr",
          "text": [
            "[I 2024-12-17 19:25:51,366] Trial 6 finished with value: 0.8571 and parameters: {'model': 'rf', 'n_estimators': 235, 'max_depth': 14}. Best is trial 0 with value: 0.8571.\n",
            "[I 2024-12-17 19:26:01,366] Trial 7 finished with value: 0.8571 and parameters: {'model': 'lightgbm', 'num_leaves': 46, 'n_estimators': 102}. Best is trial 0 with value: 0.8571.\n"
          ]
        },
        {
          "output_type": "stream",
          "name": "stdout",
          "text": [
            "      Accuracy     AUC  Recall   Prec.      F1   Kappa     MCC\n",
            "Fold                                                          \n",
            "0       0.8571  0.8761  0.7083  0.8947  0.7907  0.6845  0.6952\n",
            "1       0.8095  0.8333  0.7083  0.7727  0.7391  0.5896  0.5910\n",
            "2       0.7778  0.8515  0.5833  0.7778  0.6667  0.5051  0.5168\n",
            "3       0.8226  0.8462  0.6522  0.8333  0.7317  0.6021  0.6122\n",
            "4       0.6935  0.7160  0.4583  0.6471  0.5366  0.3175  0.3280\n",
            "5       0.7742  0.8191  0.5833  0.7778  0.6667  0.5011  0.5130\n",
            "6       0.8548  0.8629  0.7917  0.8261  0.8085  0.6917  0.6921\n",
            "7       0.6774  0.7632  0.7083  0.5667  0.6296  0.3501  0.3570\n",
            "8       0.7903  0.8377  0.7083  0.7391  0.7234  0.5547  0.5550\n",
            "9       0.8387  0.9320  0.8333  0.7692  0.8000  0.6652  0.6667\n",
            "Mean    0.7896  0.8338  0.6736  0.7605  0.7093  0.5462  0.5527\n",
            "Std     0.0591  0.0564  0.1036  0.0891  0.0813  0.1241  0.1222\n"
          ]
        },
        {
          "output_type": "stream",
          "name": "stderr",
          "text": [
            "[I 2024-12-17 19:26:03,903] Trial 8 finished with value: 0.8571 and parameters: {'model': 'xgboost', 'learning_rate': 0.03983461628517826, 'n_estimators': 216}. Best is trial 0 with value: 0.8571.\n"
          ]
        },
        {
          "output_type": "stream",
          "name": "stdout",
          "text": [
            "      Accuracy     AUC  Recall   Prec.      F1   Kappa     MCC\n",
            "Fold                                                          \n",
            "0       0.8571  0.8782  0.7083  0.8947  0.7907  0.6845  0.6952\n",
            "1       0.7937  0.7927  0.7500  0.7200  0.7347  0.5660  0.5663\n",
            "2       0.7619  0.8269  0.5833  0.7368  0.6512  0.4741  0.4816\n",
            "3       0.8065  0.8227  0.6522  0.7895  0.7143  0.5699  0.5759\n",
            "4       0.7258  0.7368  0.4583  0.7333  0.5641  0.3793  0.4016\n",
            "5       0.7903  0.8344  0.6250  0.7895  0.6977  0.5405  0.5491\n",
            "6       0.8710  0.8739  0.7917  0.8636  0.8261  0.7238  0.7256\n",
            "7       0.7097  0.7643  0.7500  0.6000  0.6667  0.4151  0.4232\n",
            "8       0.7903  0.8257  0.6667  0.7619  0.7111  0.5477  0.5507\n",
            "9       0.8065  0.8904  0.7500  0.7500  0.7500  0.5921  0.5921\n",
            "Mean    0.7913  0.8246  0.6736  0.7639  0.7106  0.5493  0.5561\n",
            "Std     0.0479  0.0470  0.0949  0.0768  0.0700  0.1019  0.0985\n"
          ]
        },
        {
          "output_type": "stream",
          "name": "stderr",
          "text": [
            "[I 2024-12-17 19:26:25,139] Trial 9 finished with value: 0.8413 and parameters: {'model': 'lightgbm', 'num_leaves': 150, 'n_estimators': 294}. Best is trial 0 with value: 0.8571.\n"
          ]
        },
        {
          "output_type": "stream",
          "name": "stdout",
          "text": [
            "      Accuracy     AUC  Recall   Prec.      F1   Kappa     MCC\n",
            "Fold                                                          \n",
            "0       0.8413  0.8611  0.7083  0.8500  0.7727  0.6523  0.6587\n",
            "1       0.7937  0.8365  0.7500  0.7200  0.7347  0.5660  0.5663\n",
            "2       0.7937  0.8429  0.6250  0.7895  0.6977  0.5442  0.5528\n",
            "3       0.8226  0.8384  0.6522  0.8333  0.7317  0.6021  0.6122\n",
            "4       0.7097  0.6776  0.5000  0.6667  0.5714  0.3586  0.3671\n",
            "5       0.7419  0.7928  0.5833  0.7000  0.6364  0.4389  0.4433\n",
            "6       0.8548  0.8487  0.8333  0.8000  0.8163  0.6964  0.6968\n",
            "7       0.6935  0.7456  0.6667  0.5926  0.6275  0.3687  0.3705\n",
            "8       0.7903  0.8114  0.7083  0.7391  0.7234  0.5547  0.5550\n",
            "9       0.8387  0.9167  0.7917  0.7917  0.7917  0.6601  0.6601\n",
            "Mean    0.7880  0.8172  0.6819  0.7483  0.7103  0.5442  0.5483\n",
            "Std     0.0532  0.0629  0.0939  0.0761  0.0740  0.1134  0.1125\n"
          ]
        },
        {
          "output_type": "stream",
          "name": "stderr",
          "text": [
            "[I 2024-12-17 19:26:27,406] Trial 10 finished with value: 0.8571 and parameters: {'model': 'et', 'n_estimators': 55}. Best is trial 0 with value: 0.8571.\n"
          ]
        },
        {
          "output_type": "stream",
          "name": "stdout",
          "text": [
            "      Accuracy     AUC  Recall   Prec.      F1   Kappa     MCC\n",
            "Fold                                                          \n",
            "0       0.8571  0.8862  0.7500  0.8571  0.8000  0.6897  0.6934\n",
            "1       0.7937  0.8323  0.7500  0.7200  0.7347  0.5660  0.5663\n",
            "2       0.7619  0.8178  0.6667  0.6957  0.6809  0.4911  0.4914\n",
            "3       0.8387  0.8562  0.7826  0.7826  0.7826  0.6544  0.6544\n",
            "4       0.7258  0.7253  0.5417  0.6842  0.6047  0.3991  0.4055\n",
            "5       0.8065  0.8229  0.7083  0.7727  0.7391  0.5857  0.5871\n",
            "6       0.8548  0.8701  0.8333  0.8000  0.8163  0.6964  0.6968\n",
            "7       0.7742  0.8372  0.7083  0.7083  0.7083  0.5241  0.5241\n",
            "8       0.7903  0.8306  0.6250  0.7895  0.6977  0.5405  0.5491\n",
            "9       0.8387  0.8849  0.8333  0.7692  0.8000  0.6652  0.6667\n",
            "Mean    0.8042  0.8363  0.7199  0.7579  0.7364  0.5812  0.5835\n",
            "Std     0.0411  0.0439  0.0868  0.0517  0.0627  0.0916  0.0906\n"
          ]
        },
        {
          "output_type": "stream",
          "name": "stderr",
          "text": [
            "[I 2024-12-17 19:26:31,228] Trial 11 finished with value: 0.8571 and parameters: {'model': 'rf', 'n_estimators': 133, 'max_depth': 4}. Best is trial 0 with value: 0.8571.\n"
          ]
        },
        {
          "output_type": "stream",
          "name": "stdout",
          "text": [
            "      Accuracy     AUC  Recall   Prec.      F1   Kappa     MCC\n",
            "Fold                                                          \n",
            "0       0.8571  0.8857  0.7083  0.8947  0.7907  0.6845  0.6952\n",
            "1       0.8095  0.8440  0.6667  0.8000  0.7273  0.5828  0.5885\n",
            "2       0.8095  0.9370  0.5833  0.8750  0.7000  0.5685  0.5936\n",
            "3       0.8387  0.8852  0.6087  0.9333  0.7368  0.6279  0.6577\n",
            "4       0.7581  0.7884  0.5000  0.8000  0.6154  0.4523  0.4789\n",
            "5       0.7581  0.8300  0.5833  0.7368  0.6512  0.4698  0.4773\n",
            "6       0.8710  0.8893  0.7500  0.9000  0.8182  0.7195  0.7266\n",
            "7       0.8065  0.8388  0.7083  0.7727  0.7391  0.5857  0.5871\n",
            "8       0.7258  0.8311  0.5417  0.6842  0.6047  0.3991  0.4055\n",
            "9       0.8710  0.9485  0.8333  0.8333  0.8333  0.7281  0.7281\n",
            "Mean    0.8105  0.8678  0.6484  0.8230  0.7217  0.5818  0.5939\n",
            "Std     0.0479  0.0478  0.0977  0.0751  0.0759  0.1077  0.1060\n"
          ]
        },
        {
          "output_type": "stream",
          "name": "stderr",
          "text": []
        },
        {
          "output_type": "stream",
          "name": "stdout",
          "text": [
            "      Accuracy     AUC  Recall   Prec.      F1   Kappa     MCC\n",
            "Fold                                                          \n",
            "0       0.8413  0.8761  0.7500  0.8182  0.7826  0.6580  0.6595\n",
            "1       0.7937  0.8446  0.7083  0.7391  0.7234  0.5590  0.5593\n",
            "2       0.7460  0.8045  0.6667  0.6667  0.6667  0.4615  0.4615\n",
            "3       0.8226  0.8562  0.7391  0.7727  0.7556  0.6164  0.6168\n",
            "4       0.7258  0.7423  0.5417  0.6842  0.6047  0.3991  0.4055\n",
            "5       0.8065  0.8103  0.7083  0.7727  0.7391  0.5857  0.5871\n",
            "6       0.8548  0.8629  0.8333  0.8000  0.8163  0.6964  0.6968\n",
            "7       0.7903  0.8448  0.7083  0.7391  0.7234  0.5547  0.5550\n",
            "8       0.8065  0.8229  0.7083  0.7727  0.7391  0.5857  0.5871\n",
            "9       0.8226  0.8821  0.7917  0.7600  0.7755  0.6289  0.6293\n",
            "Mean    0.8010  0.8347  0.7156  0.7526  0.7326  0.5746  0.5758\n",
            "Std     0.0379  0.0395  0.0736  0.0450  0.0573  0.0842  0.0832\n"
          ]
        },
        {
          "output_type": "stream",
          "name": "stderr",
          "text": [
            "[I 2024-12-17 19:26:35,381] Trial 12 finished with value: 0.8413 and parameters: {'model': 'et', 'n_estimators': 153}. Best is trial 0 with value: 0.8571.\n"
          ]
        },
        {
          "output_type": "stream",
          "name": "stdout",
          "text": [
            "      Accuracy     AUC  Recall   Prec.      F1   Kappa     MCC\n",
            "Fold                                                          \n",
            "0       0.8571  0.8632  0.7083  0.8947  0.7907  0.6845  0.6952\n",
            "1       0.8095  0.7788  0.7500  0.7500  0.7500  0.5962  0.5962\n",
            "2       0.7778  0.8376  0.6250  0.7500  0.6818  0.5132  0.5183\n",
            "3       0.8226  0.8205  0.6522  0.8333  0.7317  0.6021  0.6122\n",
            "4       0.7419  0.7270  0.5000  0.7500  0.6000  0.4206  0.4394\n",
            "5       0.8065  0.8344  0.6250  0.8333  0.7143  0.5724  0.5860\n",
            "6       0.8710  0.8794  0.7917  0.8636  0.8261  0.7238  0.7256\n",
            "7       0.7097  0.7752  0.7500  0.6000  0.6667  0.4151  0.4232\n",
            "8       0.7419  0.8202  0.5833  0.7000  0.6364  0.4389  0.4433\n",
            "9       0.8226  0.8947  0.7500  0.7826  0.7660  0.6232  0.6236\n",
            "Mean    0.7961  0.8231  0.6736  0.7758  0.7164  0.5590  0.5663\n",
            "Std     0.0497  0.0487  0.0872  0.0820  0.0671  0.1034  0.1013\n"
          ]
        },
        {
          "output_type": "stream",
          "name": "stderr",
          "text": [
            "[I 2024-12-17 19:26:40,260] Trial 13 finished with value: 0.8571 and parameters: {'model': 'xgboost', 'learning_rate': 0.09139893526315634, 'n_estimators': 66}. Best is trial 0 with value: 0.8571.\n",
            "[I 2024-12-17 19:26:55,795] Trial 14 finished with value: 0.8413 and parameters: {'model': 'lightgbm', 'num_leaves': 49, 'n_estimators': 177}. Best is trial 0 with value: 0.8571.\n"
          ]
        },
        {
          "output_type": "stream",
          "name": "stdout",
          "text": [
            "      Accuracy     AUC  Recall   Prec.      F1   Kappa     MCC\n",
            "Fold                                                          \n",
            "0       0.8413  0.8654  0.7083  0.8500  0.7727  0.6523  0.6587\n",
            "1       0.8095  0.8365  0.7500  0.7500  0.7500  0.5962  0.5962\n",
            "2       0.7778  0.8472  0.5833  0.7778  0.6667  0.5051  0.5168\n",
            "3       0.8226  0.8484  0.6522  0.8333  0.7317  0.6021  0.6122\n",
            "4       0.6935  0.6963  0.4583  0.6471  0.5366  0.3175  0.3280\n",
            "5       0.7742  0.7961  0.6250  0.7500  0.6818  0.5090  0.5141\n",
            "6       0.8710  0.8651  0.8333  0.8333  0.8333  0.7281  0.7281\n",
            "7       0.6774  0.7511  0.7083  0.5667  0.6296  0.3501  0.3570\n",
            "8       0.7903  0.8246  0.7083  0.7391  0.7234  0.5547  0.5550\n",
            "9       0.8226  0.9232  0.7500  0.7826  0.7660  0.6232  0.6236\n",
            "Mean    0.7880  0.8254  0.6777  0.7530  0.7092  0.5438  0.5490\n",
            "Std     0.0583  0.0608  0.0990  0.0836  0.0798  0.1224  0.1199\n"
          ]
        },
        {
          "output_type": "stream",
          "name": "stderr",
          "text": [
            "[I 2024-12-17 19:26:57,636] Trial 15 finished with value: 0.8571 and parameters: {'model': 'xgboost', 'learning_rate': 0.14120373313147236, 'n_estimators': 100}. Best is trial 0 with value: 0.8571.\n"
          ]
        },
        {
          "output_type": "stream",
          "name": "stdout",
          "text": [
            "      Accuracy     AUC  Recall   Prec.      F1   Kappa     MCC\n",
            "Fold                                                          \n",
            "0       0.8571  0.8654  0.7083  0.8947  0.7907  0.6845  0.6952\n",
            "1       0.7937  0.8077  0.7083  0.7391  0.7234  0.5590  0.5593\n",
            "2       0.7619  0.8045  0.5417  0.7647  0.6341  0.4652  0.4804\n",
            "3       0.8226  0.8094  0.6522  0.8333  0.7317  0.6021  0.6122\n",
            "4       0.7258  0.7138  0.5417  0.6842  0.6047  0.3991  0.4055\n",
            "5       0.7903  0.8125  0.6250  0.7895  0.6977  0.5405  0.5491\n",
            "6       0.8710  0.8695  0.7917  0.8636  0.8261  0.7238  0.7256\n",
            "7       0.6452  0.7555  0.6667  0.5333  0.5926  0.2851  0.2907\n",
            "8       0.7903  0.8114  0.6667  0.7619  0.7111  0.5477  0.5507\n",
            "9       0.7903  0.8772  0.7500  0.7200  0.7347  0.5615  0.5618\n",
            "Mean    0.7848  0.8127  0.6652  0.7584  0.7047  0.5368  0.5430\n",
            "Std     0.0614  0.0483  0.0770  0.0971  0.0719  0.1224  0.1219\n"
          ]
        },
        {
          "output_type": "stream",
          "name": "stderr",
          "text": [
            "[I 2024-12-17 19:27:01,864] Trial 16 finished with value: 0.873 and parameters: {'model': 'rf', 'n_estimators': 137, 'max_depth': 20}. Best is trial 16 with value: 0.873.\n"
          ]
        },
        {
          "output_type": "stream",
          "name": "stdout",
          "text": [
            "      Accuracy     AUC  Recall   Prec.      F1   Kappa     MCC\n",
            "Fold                                                          \n",
            "0       0.8730  0.8889  0.7917  0.8636  0.8261  0.7264  0.7281\n",
            "1       0.8254  0.8435  0.7500  0.7826  0.7660  0.6268  0.6272\n",
            "2       0.7937  0.8622  0.6667  0.7619  0.7111  0.5517  0.5547\n",
            "3       0.8548  0.8685  0.6957  0.8889  0.7805  0.6744  0.6858\n",
            "4       0.7903  0.7571  0.5833  0.8235  0.6829  0.5330  0.5507\n",
            "5       0.8065  0.8531  0.7083  0.7727  0.7391  0.5857  0.5871\n",
            "6       0.8710  0.8706  0.8750  0.8077  0.8400  0.7322  0.7338\n",
            "7       0.8065  0.8207  0.7500  0.7500  0.7500  0.5921  0.5921\n",
            "8       0.7581  0.8394  0.6250  0.7143  0.6667  0.4781  0.4807\n",
            "9       0.8387  0.8958  0.7917  0.7917  0.7917  0.6601  0.6601\n",
            "Mean    0.8218  0.8500  0.7237  0.7957  0.7554  0.6161  0.6200\n",
            "Std     0.0357  0.0376  0.0820  0.0498  0.0544  0.0792  0.0781\n"
          ]
        },
        {
          "output_type": "stream",
          "name": "stderr",
          "text": []
        },
        {
          "output_type": "stream",
          "name": "stdout",
          "text": [
            "      Accuracy     AUC  Recall   Prec.      F1   Kappa     MCC\n",
            "Fold                                                          \n",
            "0       0.8730  0.8900  0.7917  0.8636  0.8261  0.7264  0.7281\n",
            "1       0.8254  0.8451  0.7500  0.7826  0.7660  0.6268  0.6272\n",
            "2       0.7778  0.8579  0.6667  0.7273  0.6957  0.5212  0.5224\n",
            "3       0.8548  0.8690  0.6957  0.8889  0.7805  0.6744  0.6858\n",
            "4       0.7903  0.7495  0.5833  0.8235  0.6829  0.5330  0.5507\n",
            "5       0.8065  0.8448  0.7083  0.7727  0.7391  0.5857  0.5871\n",
            "6       0.8710  0.8706  0.8333  0.8333  0.8333  0.7281  0.7281\n",
            "7       0.8065  0.8295  0.7500  0.7500  0.7500  0.5921  0.5921\n",
            "8       0.7742  0.8366  0.6250  0.7500  0.6818  0.5090  0.5141\n",
            "9       0.8548  0.8958  0.8333  0.8000  0.8163  0.6964  0.6968\n",
            "Mean    0.8234  0.8489  0.7237  0.7992  0.7572  0.6193  0.6232\n",
            "Std     0.0359  0.0391  0.0799  0.0499  0.0548  0.0796  0.0781\n"
          ]
        },
        {
          "output_type": "stream",
          "name": "stderr",
          "text": [
            "[I 2024-12-17 19:27:07,045] Trial 17 finished with value: 0.873 and parameters: {'model': 'rf', 'n_estimators': 151, 'max_depth': 19}. Best is trial 16 with value: 0.873.\n",
            "[I 2024-12-17 19:27:14,954] Trial 18 finished with value: 0.873 and parameters: {'model': 'rf', 'n_estimators': 201, 'max_depth': 19}. Best is trial 16 with value: 0.873.\n"
          ]
        },
        {
          "output_type": "stream",
          "name": "stdout",
          "text": [
            "      Accuracy     AUC  Recall   Prec.      F1   Kappa     MCC\n",
            "Fold                                                          \n",
            "0       0.8730  0.8857  0.7917  0.8636  0.8261  0.7264  0.7281\n",
            "1       0.8254  0.8456  0.7500  0.7826  0.7660  0.6268  0.6272\n",
            "2       0.7778  0.8536  0.6667  0.7273  0.6957  0.5212  0.5224\n",
            "3       0.8387  0.8718  0.6957  0.8421  0.7619  0.6416  0.6483\n",
            "4       0.7903  0.7522  0.5833  0.8235  0.6829  0.5330  0.5507\n",
            "5       0.8065  0.8432  0.7083  0.7727  0.7391  0.5857  0.5871\n",
            "6       0.8710  0.8739  0.8333  0.8333  0.8333  0.7281  0.7281\n",
            "7       0.7903  0.8306  0.7500  0.7200  0.7347  0.5615  0.5618\n",
            "8       0.7419  0.8328  0.5417  0.7222  0.6190  0.4299  0.4401\n",
            "9       0.8387  0.8914  0.8333  0.7692  0.8000  0.6652  0.6667\n",
            "Mean    0.8154  0.8481  0.7154  0.7857  0.7459  0.6019  0.6060\n",
            "Std     0.0397  0.0378  0.0930  0.0502  0.0636  0.0896  0.0870\n"
          ]
        },
        {
          "output_type": "stream",
          "name": "stderr",
          "text": [
            "[I 2024-12-17 19:27:19,436] Trial 19 finished with value: 0.873 and parameters: {'model': 'rf', 'n_estimators': 143, 'max_depth': 19}. Best is trial 16 with value: 0.873.\n"
          ]
        },
        {
          "output_type": "stream",
          "name": "stdout",
          "text": [
            "      Accuracy     AUC  Recall   Prec.      F1   Kappa     MCC\n",
            "Fold                                                          \n",
            "0       0.8730  0.8900  0.7917  0.8636  0.8261  0.7264  0.7281\n",
            "1       0.8254  0.8446  0.7500  0.7826  0.7660  0.6268  0.6272\n",
            "2       0.7937  0.8616  0.6667  0.7619  0.7111  0.5517  0.5547\n",
            "3       0.8548  0.8651  0.6957  0.8889  0.7805  0.6744  0.6858\n",
            "4       0.7903  0.7511  0.5833  0.8235  0.6829  0.5330  0.5507\n",
            "5       0.8065  0.8465  0.7083  0.7727  0.7391  0.5857  0.5871\n",
            "6       0.8548  0.8706  0.8333  0.8000  0.8163  0.6964  0.6968\n",
            "7       0.8065  0.8289  0.7500  0.7500  0.7500  0.5921  0.5921\n",
            "8       0.7581  0.8388  0.6250  0.7143  0.6667  0.4781  0.4807\n",
            "9       0.8548  0.8964  0.8333  0.8000  0.8163  0.6964  0.6968\n",
            "Mean    0.8218  0.8494  0.7237  0.7958  0.7555  0.6161  0.6200\n",
            "Std     0.0350  0.0386  0.0799  0.0497  0.0534  0.0776  0.0763\n"
          ]
        },
        {
          "output_type": "stream",
          "name": "stderr",
          "text": []
        },
        {
          "output_type": "stream",
          "name": "stdout",
          "text": [
            "      Accuracy     AUC  Recall   Prec.      F1   Kappa     MCC\n",
            "Fold                                                          \n",
            "0       0.8730  0.8889  0.7917  0.8636  0.8261  0.7264  0.7281\n",
            "1       0.8254  0.8446  0.7500  0.7826  0.7660  0.6268  0.6272\n",
            "2       0.7937  0.8616  0.7083  0.7391  0.7234  0.5590  0.5593\n",
            "3       0.8548  0.8668  0.6957  0.8889  0.7805  0.6744  0.6858\n",
            "4       0.7903  0.7495  0.5833  0.8235  0.6829  0.5330  0.5507\n",
            "5       0.8065  0.8459  0.7083  0.7727  0.7391  0.5857  0.5871\n",
            "6       0.8710  0.8701  0.8750  0.8077  0.8400  0.7322  0.7338\n",
            "7       0.8065  0.8289  0.7500  0.7500  0.7500  0.5921  0.5921\n",
            "8       0.7419  0.8350  0.5833  0.7000  0.6364  0.4389  0.4433\n",
            "9       0.8548  0.8942  0.8333  0.8000  0.8163  0.6964  0.6968\n",
            "Mean    0.8218  0.8485  0.7279  0.7928  0.7561  0.6165  0.6204\n",
            "Std     0.0398  0.0388  0.0902  0.0541  0.0611  0.0887  0.0875\n"
          ]
        },
        {
          "output_type": "stream",
          "name": "stderr",
          "text": [
            "[I 2024-12-17 19:27:25,989] Trial 20 finished with value: 0.873 and parameters: {'model': 'rf', 'n_estimators': 159, 'max_depth': 20}. Best is trial 16 with value: 0.873.\n",
            "[I 2024-12-17 19:27:32,459] Trial 21 finished with value: 0.873 and parameters: {'model': 'rf', 'n_estimators': 199, 'max_depth': 20}. Best is trial 16 with value: 0.873.\n"
          ]
        },
        {
          "output_type": "stream",
          "name": "stdout",
          "text": [
            "      Accuracy     AUC  Recall   Prec.      F1   Kappa     MCC\n",
            "Fold                                                          \n",
            "0       0.8730  0.8857  0.7917  0.8636  0.8261  0.7264  0.7281\n",
            "1       0.8254  0.8456  0.7500  0.7826  0.7660  0.6268  0.6272\n",
            "2       0.7778  0.8558  0.6667  0.7273  0.6957  0.5212  0.5224\n",
            "3       0.8710  0.8729  0.7391  0.8947  0.8095  0.7133  0.7207\n",
            "4       0.7903  0.7538  0.5833  0.8235  0.6829  0.5330  0.5507\n",
            "5       0.8065  0.8448  0.7083  0.7727  0.7391  0.5857  0.5871\n",
            "6       0.8710  0.8734  0.8333  0.8333  0.8333  0.7281  0.7281\n",
            "7       0.7903  0.8317  0.7500  0.7200  0.7347  0.5615  0.5618\n",
            "8       0.7419  0.8289  0.5417  0.7222  0.6190  0.4299  0.4401\n",
            "9       0.8387  0.8909  0.8333  0.7692  0.8000  0.6652  0.6667\n",
            "Mean    0.8186  0.8484  0.7197  0.7909  0.7506  0.6091  0.6133\n",
            "Std     0.0426  0.0375  0.0930  0.0580  0.0663  0.0952  0.0930\n"
          ]
        },
        {
          "output_type": "stream",
          "name": "stderr",
          "text": []
        },
        {
          "output_type": "stream",
          "name": "stdout",
          "text": [
            "      Accuracy     AUC  Recall   Prec.      F1   Kappa     MCC\n",
            "Fold                                                          \n",
            "0       0.8730  0.8868  0.7917  0.8636  0.8261  0.7264  0.7281\n",
            "1       0.8254  0.8483  0.7500  0.7826  0.7660  0.6268  0.6272\n",
            "2       0.7619  0.8600  0.6250  0.7143  0.6667  0.4828  0.4854\n",
            "3       0.8387  0.8763  0.6957  0.8421  0.7619  0.6416  0.6483\n",
            "4       0.7903  0.7560  0.5833  0.8235  0.6829  0.5330  0.5507\n",
            "5       0.8226  0.8405  0.7083  0.8095  0.7556  0.6173  0.6207\n",
            "6       0.8710  0.8717  0.8333  0.8333  0.8333  0.7281  0.7281\n",
            "7       0.7581  0.8300  0.7500  0.6667  0.7059  0.5016  0.5041\n",
            "8       0.7419  0.8295  0.5833  0.7000  0.6364  0.4389  0.4433\n",
            "9       0.8548  0.8936  0.8333  0.8000  0.8163  0.6964  0.6968\n",
            "Mean    0.8138  0.8493  0.7154  0.7836  0.7451  0.5993  0.6033\n",
            "Std     0.0456  0.0378  0.0892  0.0635  0.0660  0.0991  0.0974\n"
          ]
        },
        {
          "output_type": "stream",
          "name": "stderr",
          "text": [
            "[I 2024-12-17 19:27:38,204] Trial 22 finished with value: 0.873 and parameters: {'model': 'rf', 'n_estimators': 200, 'max_depth': 15}. Best is trial 16 with value: 0.873.\n",
            "[I 2024-12-17 19:27:45,637] Trial 23 finished with value: 0.873 and parameters: {'model': 'rf', 'n_estimators': 164, 'max_depth': 17}. Best is trial 16 with value: 0.873.\n"
          ]
        },
        {
          "output_type": "stream",
          "name": "stdout",
          "text": [
            "      Accuracy     AUC  Recall   Prec.      F1   Kappa     MCC\n",
            "Fold                                                          \n",
            "0       0.8730  0.8953  0.7917  0.8636  0.8261  0.7264  0.7281\n",
            "1       0.8254  0.8472  0.7500  0.7826  0.7660  0.6268  0.6272\n",
            "2       0.7937  0.8584  0.7083  0.7391  0.7234  0.5590  0.5593\n",
            "3       0.8548  0.8673  0.6957  0.8889  0.7805  0.6744  0.6858\n",
            "4       0.7903  0.7511  0.5833  0.8235  0.6829  0.5330  0.5507\n",
            "5       0.8065  0.8509  0.7083  0.7727  0.7391  0.5857  0.5871\n",
            "6       0.8710  0.8695  0.8333  0.8333  0.8333  0.7281  0.7281\n",
            "7       0.8065  0.8251  0.7500  0.7500  0.7500  0.5921  0.5921\n",
            "8       0.7581  0.8333  0.5833  0.7368  0.6512  0.4698  0.4773\n",
            "9       0.8548  0.8914  0.8333  0.8000  0.8163  0.6964  0.6968\n",
            "Mean    0.8234  0.8490  0.7237  0.7991  0.7569  0.6192  0.6232\n",
            "Std     0.0368  0.0390  0.0841  0.0498  0.0574  0.0822  0.0801\n"
          ]
        },
        {
          "output_type": "stream",
          "name": "stderr",
          "text": [
            "[I 2024-12-17 19:27:48,618] Trial 24 finished with value: 0.8571 and parameters: {'model': 'rf', 'n_estimators': 77, 'max_depth': 9}. Best is trial 16 with value: 0.873.\n"
          ]
        },
        {
          "output_type": "stream",
          "name": "stdout",
          "text": [
            "      Accuracy     AUC  Recall   Prec.      F1   Kappa     MCC\n",
            "Fold                                                          \n",
            "0       0.8571  0.8771  0.7500  0.8571  0.8000  0.6897  0.6934\n",
            "1       0.8413  0.8408  0.7917  0.7917  0.7917  0.6635  0.6635\n",
            "2       0.8254  0.8739  0.7083  0.8095  0.7556  0.6207  0.6240\n",
            "3       0.8226  0.8484  0.6522  0.8333  0.7317  0.6021  0.6122\n",
            "4       0.7581  0.7478  0.5417  0.7647  0.6341  0.4612  0.4765\n",
            "5       0.7903  0.8300  0.6667  0.7619  0.7111  0.5477  0.5507\n",
            "6       0.8710  0.8728  0.8333  0.8333  0.8333  0.7281  0.7281\n",
            "7       0.8548  0.8454  0.7917  0.8261  0.8085  0.6917  0.6921\n",
            "8       0.7742  0.8399  0.6250  0.7500  0.6818  0.5090  0.5141\n",
            "9       0.8226  0.9024  0.7917  0.7600  0.7755  0.6289  0.6293\n",
            "Mean    0.8217  0.8479  0.7152  0.7988  0.7523  0.6143  0.6184\n",
            "Std     0.0353  0.0395  0.0879  0.0362  0.0593  0.0815  0.0780\n"
          ]
        },
        {
          "output_type": "stream",
          "name": "stderr",
          "text": []
        },
        {
          "output_type": "stream",
          "name": "stdout",
          "text": [
            "      Accuracy     AUC  Recall   Prec.      F1   Kappa     MCC\n",
            "Fold                                                          \n",
            "0       0.8730  0.8910  0.7917  0.8636  0.8261  0.7264  0.7281\n",
            "1       0.8254  0.8472  0.7500  0.7826  0.7660  0.6268  0.6272\n",
            "2       0.7778  0.8563  0.6667  0.7273  0.6957  0.5212  0.5224\n",
            "3       0.8387  0.8751  0.6957  0.8421  0.7619  0.6416  0.6483\n",
            "4       0.7903  0.7560  0.5833  0.8235  0.6829  0.5330  0.5507\n",
            "5       0.8226  0.8470  0.7083  0.8095  0.7556  0.6173  0.6207\n",
            "6       0.8871  0.8750  0.8750  0.8400  0.8571  0.7639  0.7643\n",
            "7       0.7903  0.8279  0.7500  0.7200  0.7347  0.5615  0.5618\n",
            "8       0.7581  0.8377  0.5833  0.7368  0.6512  0.4698  0.4773\n",
            "9       0.8387  0.8942  0.8333  0.7692  0.8000  0.6652  0.6667\n",
            "Mean    0.8202  0.8508  0.7237  0.7915  0.7531  0.6127  0.6168\n",
            "Std     0.0393  0.0380  0.0920  0.0493  0.0613  0.0880  0.0857\n"
          ]
        },
        {
          "output_type": "stream",
          "name": "stderr",
          "text": [
            "[I 2024-12-17 19:27:57,411] Trial 25 finished with value: 0.873 and parameters: {'model': 'rf', 'n_estimators': 271, 'max_depth': 17}. Best is trial 16 with value: 0.873.\n",
            "[I 2024-12-17 19:28:04,232] Trial 26 finished with value: 0.8571 and parameters: {'model': 'rf', 'n_estimators': 214, 'max_depth': 11}. Best is trial 16 with value: 0.873.\n"
          ]
        },
        {
          "output_type": "stream",
          "name": "stdout",
          "text": [
            "      Accuracy     AUC  Recall   Prec.      F1   Kappa     MCC\n",
            "Fold                                                          \n",
            "0       0.8571  0.8825  0.7500  0.8571  0.8000  0.6897  0.6934\n",
            "1       0.8254  0.8483  0.7917  0.7600  0.7755  0.6328  0.6331\n",
            "2       0.7778  0.8568  0.6250  0.7500  0.6818  0.5132  0.5183\n",
            "3       0.8548  0.8740  0.7391  0.8500  0.7907  0.6804  0.6843\n",
            "4       0.7903  0.7577  0.5833  0.8235  0.6829  0.5330  0.5507\n",
            "5       0.8065  0.8410  0.7083  0.7727  0.7391  0.5857  0.5871\n",
            "6       0.8710  0.8706  0.8333  0.8333  0.8333  0.7281  0.7281\n",
            "7       0.7903  0.8410  0.7500  0.7200  0.7347  0.5615  0.5618\n",
            "8       0.7742  0.8322  0.6250  0.7500  0.6818  0.5090  0.5141\n",
            "9       0.8548  0.9057  0.7917  0.8261  0.8085  0.6917  0.6921\n",
            "Mean    0.8202  0.8510  0.7197  0.7943  0.7528  0.6125  0.6163\n",
            "Std     0.0350  0.0377  0.0788  0.0464  0.0541  0.0780  0.0757\n"
          ]
        },
        {
          "output_type": "stream",
          "name": "stderr",
          "text": [
            "[I 2024-12-17 19:28:08,604] Trial 27 finished with value: 0.8254 and parameters: {'model': 'et', 'n_estimators': 184}. Best is trial 16 with value: 0.873.\n"
          ]
        },
        {
          "output_type": "stream",
          "name": "stdout",
          "text": [
            "      Accuracy     AUC  Recall   Prec.      F1   Kappa     MCC\n",
            "Fold                                                          \n",
            "0       0.8254  0.8766  0.7500  0.7826  0.7660  0.6268  0.6272\n",
            "1       0.8095  0.8429  0.7500  0.7500  0.7500  0.5962  0.5962\n",
            "2       0.7302  0.8029  0.6250  0.6522  0.6383  0.4233  0.4235\n",
            "3       0.8226  0.8562  0.7391  0.7727  0.7556  0.6164  0.6168\n",
            "4       0.7419  0.7401  0.5417  0.7222  0.6190  0.4299  0.4401\n",
            "5       0.8065  0.8152  0.7083  0.7727  0.7391  0.5857  0.5871\n",
            "6       0.8548  0.8613  0.8333  0.8000  0.8163  0.6964  0.6968\n",
            "7       0.8065  0.8454  0.7083  0.7727  0.7391  0.5857  0.5871\n",
            "8       0.7903  0.8246  0.6667  0.7619  0.7111  0.5477  0.5507\n",
            "9       0.8387  0.8821  0.7917  0.7917  0.7917  0.6601  0.6601\n",
            "Mean    0.8026  0.8347  0.7114  0.7579  0.7326  0.5768  0.5786\n",
            "Std     0.0376  0.0397  0.0796  0.0409  0.0590  0.0848  0.0830\n"
          ]
        },
        {
          "output_type": "stream",
          "name": "stderr",
          "text": [
            "[I 2024-12-17 19:28:15,626] Trial 28 finished with value: 0.873 and parameters: {'model': 'rf', 'n_estimators': 140, 'max_depth': 17}. Best is trial 16 with value: 0.873.\n"
          ]
        },
        {
          "output_type": "stream",
          "name": "stdout",
          "text": [
            "      Accuracy     AUC  Recall   Prec.      F1   Kappa     MCC\n",
            "Fold                                                          \n",
            "0       0.8730  0.8921  0.7917  0.8636  0.8261  0.7264  0.7281\n",
            "1       0.8254  0.8435  0.7500  0.7826  0.7660  0.6268  0.6272\n",
            "2       0.7619  0.8611  0.6667  0.6957  0.6809  0.4911  0.4914\n",
            "3       0.8548  0.8673  0.6957  0.8889  0.7805  0.6744  0.6858\n",
            "4       0.7903  0.7571  0.5833  0.8235  0.6829  0.5330  0.5507\n",
            "5       0.8065  0.8558  0.7083  0.7727  0.7391  0.5857  0.5871\n",
            "6       0.8710  0.8728  0.8333  0.8333  0.8333  0.7281  0.7281\n",
            "7       0.8065  0.8240  0.7500  0.7500  0.7500  0.5921  0.5921\n",
            "8       0.7742  0.8394  0.6250  0.7500  0.6818  0.5090  0.5141\n",
            "9       0.8548  0.8942  0.8333  0.8000  0.8163  0.6964  0.6968\n",
            "Mean    0.8218  0.8507  0.7237  0.7960  0.7557  0.6163  0.6201\n",
            "Std     0.0381  0.0376  0.0799  0.0551  0.0566  0.0838  0.0825\n"
          ]
        },
        {
          "output_type": "stream",
          "name": "stderr",
          "text": [
            "[I 2024-12-17 19:28:19,678] Trial 29 finished with value: 0.873 and parameters: {'model': 'rf', 'n_estimators': 122, 'max_depth': 20}. Best is trial 16 with value: 0.873.\n"
          ]
        },
        {
          "output_type": "stream",
          "name": "stdout",
          "text": [
            "      Accuracy     AUC  Recall   Prec.      F1   Kappa     MCC\n",
            "Fold                                                          \n",
            "0       0.8730  0.8900  0.7917  0.8636  0.8261  0.7264  0.7281\n",
            "1       0.8254  0.8451  0.7500  0.7826  0.7660  0.6268  0.6272\n",
            "2       0.7778  0.8611  0.6667  0.7273  0.6957  0.5212  0.5224\n",
            "3       0.8387  0.8685  0.6957  0.8421  0.7619  0.6416  0.6483\n",
            "4       0.7742  0.7593  0.5833  0.7778  0.6667  0.5011  0.5130\n",
            "5       0.8065  0.8569  0.7083  0.7727  0.7391  0.5857  0.5871\n",
            "6       0.8871  0.8695  0.8750  0.8400  0.8571  0.7639  0.7643\n",
            "7       0.7903  0.8191  0.7083  0.7391  0.7234  0.5547  0.5550\n",
            "8       0.7581  0.8399  0.5833  0.7368  0.6512  0.4698  0.4773\n",
            "9       0.8387  0.8958  0.8333  0.7692  0.8000  0.6652  0.6667\n",
            "Mean    0.8170  0.8505  0.7196  0.7851  0.7487  0.6056  0.6089\n",
            "Std     0.0409  0.0373  0.0916  0.0455  0.0638  0.0919  0.0900\n",
            "\n",
            "Best Model Parameters: {'model': 'rf', 'n_estimators': 137, 'max_depth': 20}\n"
          ]
        },
        {
          "output_type": "stream",
          "name": "stderr",
          "text": []
        },
        {
          "output_type": "stream",
          "name": "stdout",
          "text": [
            "      Accuracy     AUC  Recall   Prec.      F1   Kappa     MCC\n",
            "Fold                                                          \n",
            "0       0.8730  0.8889  0.7917  0.8636  0.8261  0.7264  0.7281\n",
            "1       0.8254  0.8435  0.7500  0.7826  0.7660  0.6268  0.6272\n",
            "2       0.7937  0.8622  0.6667  0.7619  0.7111  0.5517  0.5547\n",
            "3       0.8548  0.8685  0.6957  0.8889  0.7805  0.6744  0.6858\n",
            "4       0.7903  0.7571  0.5833  0.8235  0.6829  0.5330  0.5507\n",
            "5       0.8065  0.8531  0.7083  0.7727  0.7391  0.5857  0.5871\n",
            "6       0.8710  0.8706  0.8750  0.8077  0.8400  0.7322  0.7338\n",
            "7       0.8065  0.8207  0.7500  0.7500  0.7500  0.5921  0.5921\n",
            "8       0.7581  0.8394  0.6250  0.7143  0.6667  0.4781  0.4807\n",
            "9       0.8387  0.8958  0.7917  0.7917  0.7917  0.6601  0.6601\n",
            "Mean    0.8218  0.8500  0.7237  0.7957  0.7554  0.6161  0.6200\n",
            "Std     0.0357  0.0376  0.0820  0.0498  0.0544  0.0792  0.0781\n",
            "\n",
            "Evaluating Final Model\n"
          ]
        },
        {
          "output_type": "display_data",
          "data": {
            "text/plain": [
              "<Figure size 800x550 with 1 Axes>"
            ],
            "image/png": "[encoded data removed]"
          },
          "metadata": {}
        },
        {
          "output_type": "display_data",
          "data": {
            "text/plain": [
              "<Figure size 800x550 with 1 Axes>"
            ],
            "image/png": "[encoded data removed]"
          },
          "metadata": {}
        },
        {
          "output_type": "stream",
          "name": "stdout",
          "text": [
            "Transformation Pipeline and Model Successfully Saved\n"
          ]
        },
        {
          "output_type": "execute_result",
          "data": {
            "text/plain": [
              "(Pipeline(memory=Memory(location=None),\n",
              "          steps=[('numerical_imputer',\n",
              "                  TransformerWrapper(exclude=None,\n",
              "                                     include=['PassengerId', 'Pclass', 'Age',\n",
              "                                              'SibSp', 'Parch', 'Fare',\n",
              "                                              'Family_Size', 'Fare_Per_Person'],\n",
              "                                     transformer=SimpleImputer(add_indicator=False,\n",
              "                                                               copy=True,\n",
              "                                                               fill_value=None,\n",
              "                                                               keep_empty_features=False,\n",
              "                                                               missing_values=nan,\n",
              "                                                               strategy='mean'))),\n",
              "                 ('categorical_imputer'...\n",
              "                  RandomForestClassifier(bootstrap=True, ccp_alpha=0.0,\n",
              "                                         class_weight=None, criterion='gini',\n",
              "                                         max_depth=20, max_features='sqrt',\n",
              "                                         max_leaf_nodes=None, max_samples=None,\n",
              "                                         min_impurity_decrease=0.0,\n",
              "                                         min_samples_leaf=1, min_samples_split=2,\n",
              "                                         min_weight_fraction_leaf=0.0,\n",
              "                                         monotonic_cst=None, n_estimators=137,\n",
              "                                         n_jobs=-1, oob_score=False,\n",
              "                                         random_state=123, verbose=0,\n",
              "                                         warm_start=False))],\n",
              "          verbose=False),\n",
              " 'optimized_classification_model.pkl')"
            ]
          },
          "metadata": {},
          "execution_count": 20
        }
      ],
      "source": [
        "!pip install catboost --quiet\n",
        "!pip install pycaret[full] --quiet\n",
        "\n",
        "# Step 2: Import necessary libraries and prepare the environment\n",
        "import pandas as pd\n",
        "from pycaret.classification import *\n",
        "import optuna\n",
        "\n",
        "# Step 3: Load Titanic Dataset (or any multi-feature classification dataset)\n",
        "from pycaret.datasets import get_data\n",
        "titanic = get_data('titanic')  # Load Titanic dataset as an example\n",
        "\n",
        "# Step 4: Feature Engineering and Data Preparation\n",
        "# Drop irrelevant columns and process data\n",
        "data = titanic.drop(['Name', 'Ticket', 'Cabin'], axis=1)\n",
        "\n",
        "# Optional feature engineering: Add new engineered features\n",
        "data['Family_Size'] = data['SibSp'] + data['Parch']\n",
        "data['Fare_Per_Person'] = data['Fare'] / (data['Family_Size'] + 1)\n",
        "\n",
        "# Step 5: Set up PyCaret Classification Environment\n",
        "# Remove unavailable models from the list\n",
        "clf_setup = setup(data, target='Survived', session_id=123, log_experiment=False, html=False)\n",
        "\n",
        "# Step 6: Model Selection and Hyperparameter Optimization using Optuna\n",
        "# Define an optimization function for model selection and hyperparameter tuning\n",
        "def optimize_with_optuna(trial):\n",
        "    # Use trial to select model and hyperparameters\n",
        "    model_name = trial.suggest_categorical(\"model\", ['rf', 'xgboost', 'lightgbm', 'et'])  # Removed 'catboost'\n",
        "    params = {}\n",
        "\n",
        "    if model_name == \"rf\":\n",
        "        params['n_estimators'] = trial.suggest_int(\"n_estimators\", 50, 300)\n",
        "        params['max_depth'] = trial.suggest_int(\"max_depth\", 3, 20)\n",
        "    elif model_name == \"xgboost\":\n",
        "        params['learning_rate'] = trial.suggest_float(\"learning_rate\", 0.01, 0.3)\n",
        "        params['n_estimators'] = trial.suggest_int(\"n_estimators\", 50, 300)\n",
        "    elif model_name == \"lightgbm\":\n",
        "        params['num_leaves'] = trial.suggest_int(\"num_leaves\", 20, 300)\n",
        "        params['n_estimators'] = trial.suggest_int(\"n_estimators\", 50, 300)\n",
        "    elif model_name == \"et\":\n",
        "        params['n_estimators'] = trial.suggest_int(\"n_estimators\", 50, 300)\n",
        "\n",
        "    # Create and tune model\n",
        "    model = create_model(model_name, **params)\n",
        "    results = pull()\n",
        "    score = results.iloc[0]['Accuracy']  # Optimize based on Accuracy\n",
        "    return score\n",
        "\n",
        "# Run Optuna Study to Find the Best Model and Parameters\n",
        "study = optuna.create_study(direction=\"maximize\")\n",
        "study.optimize(optimize_with_optuna, n_trials=30)\n",
        "\n",
        "# Step 7: Train the Best Model with Optimal Parameters\n",
        "best_trial = study.best_trial\n",
        "print(\"\\nBest Model Parameters:\", best_trial.params)\n",
        "final_model = create_model(best_trial.params['model'], **{k: v for k, v in best_trial.params.items() if k != 'model'})\n",
        "\n",
        "# Step 8: Evaluate the Final Optimized Model\n",
        "print(\"\\nEvaluating Final Model\")\n",
        "plot_model(final_model, plot='auc')\n",
        "plot_model(final_model, plot='confusion_matrix')\n",
        "\n",
        "# Step 9: Save the Optimized Model\n",
        "save_model(final_model, 'optimized_classification_model')\n"
      ]
    }
  ]
}